{
 "cells": [
  {
   "cell_type": "code",
   "execution_count": 2,
   "metadata": {
    "collapsed": false
   },
   "outputs": [
    {
     "data": {
      "text/plain": [
       "1"
      ]
     },
     "execution_count": 2,
     "metadata": {},
     "output_type": "execute_result"
    }
   ],
   "source": [
    "import pandas as pd\n",
    "from pulp import LpVariable, LpProblem, lpSum, LpMaximize, LpInteger\n",
    "\n",
    "out = []\n",
    "with open('/home/acohen/Desktop/fanduel') as f:\n",
    "    for i in f:\n",
    "        out.append(i.split(';'))\n",
    "        \n",
    "df = pd.DataFrame(out[1:], columns=out[0])\n",
    "\n",
    "f = lambda x: ''.join([char.lower() for char in x if char.isalnum()])\n",
    "df.columns = [f(c) for c in df.columns.tolist()]\n",
    "df = df[['name', 'pos', 'salary', 'ptsgame']]\n",
    "df.salary = df.salary.astype(int)\n",
    "df.ptsgame = df.ptsgame.astype(float)\n",
    "df = df[df.salary>0]\n",
    "\n",
    "dN = {g[0]: g[1].name.tolist() for g in df.groupby('pos')}\n",
    "\n",
    "dSal = {k: int(v) for (k, v) in zip(df.name, df.salary)}\n",
    "dPts = {k: float(v) for (k, v) in zip(df.name, df.ptsgame)}\n",
    "dPos = {k: v for (k, v) in zip(df.name, df.pos)}\n",
    "\n",
    "players = list(set(df.name))\n",
    "player_vars = LpVariable.dicts('plyrs', players, lowBound=0, upBound=1, cat=LpInteger)\n",
    "\n",
    "prob = LpProblem('', LpMaximize)\n",
    "prob += lpSum([dPts[i]*player_vars[i] for i in players])\n",
    "\n",
    "prob += lpSum([player_vars[i] for i in players if i in dN['WR']]) == 3\n",
    "prob += lpSum([player_vars[i] for i in players if i in dN['RB']]) == 2\n",
    "prob += lpSum([player_vars[i] for i in players if i in dN['QB']]) == 1\n",
    "prob += lpSum([player_vars[i] for i in players if i in dN['TE']]) == 1\n",
    "prob += lpSum([player_vars[i] for i in players if i in dN['D']]) == 1\n",
    "prob += lpSum([player_vars[i] for i in players if i in dN['K']]) == 1\n",
    "\n",
    "prob += lpSum([dSal[i]*player_vars[i] for i in players]) <= 60000\n",
    "\n",
    "prob.solve()"
   ]
  },
  {
   "cell_type": "code",
   "execution_count": 3,
   "metadata": {
    "collapsed": false
   },
   "outputs": [
    {
     "data": {
      "text/html": [
       "<div>\n",
       "<table border=\"1\" class=\"dataframe\">\n",
       "  <thead>\n",
       "    <tr style=\"text-align: right;\">\n",
       "      <th></th>\n",
       "      <th>name</th>\n",
       "      <th>pos</th>\n",
       "      <th>salary</th>\n",
       "      <th>ptsgame</th>\n",
       "    </tr>\n",
       "  </thead>\n",
       "  <tbody>\n",
       "    <tr>\n",
       "      <th>17</th>\n",
       "      <td>Evans, Mike</td>\n",
       "      <td>WR</td>\n",
       "      <td>8500</td>\n",
       "      <td>19.00</td>\n",
       "    </tr>\n",
       "    <tr>\n",
       "      <th>44</th>\n",
       "      <td>Thomas, Michael</td>\n",
       "      <td>WR</td>\n",
       "      <td>6400</td>\n",
       "      <td>13.85</td>\n",
       "    </tr>\n",
       "    <tr>\n",
       "      <th>150</th>\n",
       "      <td>Royal, Eddie</td>\n",
       "      <td>WR</td>\n",
       "      <td>5100</td>\n",
       "      <td>11.05</td>\n",
       "    </tr>\n",
       "    <tr>\n",
       "      <th>107</th>\n",
       "      <td>Reed, Jordan</td>\n",
       "      <td>TE</td>\n",
       "      <td>7000</td>\n",
       "      <td>13.42</td>\n",
       "    </tr>\n",
       "    <tr>\n",
       "      <th>4</th>\n",
       "      <td>Gordon, Melvin</td>\n",
       "      <td>RB</td>\n",
       "      <td>8300</td>\n",
       "      <td>20.13</td>\n",
       "    </tr>\n",
       "    <tr>\n",
       "      <th>9</th>\n",
       "      <td>Murray, DeMarco</td>\n",
       "      <td>RB</td>\n",
       "      <td>7400</td>\n",
       "      <td>19.20</td>\n",
       "    </tr>\n",
       "    <tr>\n",
       "      <th>54</th>\n",
       "      <td>Brady, Tom</td>\n",
       "      <td>QB</td>\n",
       "      <td>8300</td>\n",
       "      <td>26.29</td>\n",
       "    </tr>\n",
       "    <tr>\n",
       "      <th>96</th>\n",
       "      <td>Sturgis, Caleb</td>\n",
       "      <td>K</td>\n",
       "      <td>4600</td>\n",
       "      <td>10.63</td>\n",
       "    </tr>\n",
       "    <tr>\n",
       "      <th>80</th>\n",
       "      <td>Philadelphia</td>\n",
       "      <td>D</td>\n",
       "      <td>4400</td>\n",
       "      <td>11.50</td>\n",
       "    </tr>\n",
       "  </tbody>\n",
       "</table>\n",
       "</div>"
      ],
      "text/plain": [
       "                name pos  salary  ptsgame\n",
       "17       Evans, Mike  WR    8500    19.00\n",
       "44   Thomas, Michael  WR    6400    13.85\n",
       "150     Royal, Eddie  WR    5100    11.05\n",
       "107     Reed, Jordan  TE    7000    13.42\n",
       "4     Gordon, Melvin  RB    8300    20.13\n",
       "9    Murray, DeMarco  RB    7400    19.20\n",
       "54        Brady, Tom  QB    8300    26.29\n",
       "96    Sturgis, Caleb   K    4600    10.63\n",
       "80      Philadelphia   D    4400    11.50"
      ]
     },
     "execution_count": 3,
     "metadata": {},
     "output_type": "execute_result"
    }
   ],
   "source": [
    "final = df[df.name.isin([v.name.replace('plyrs_', '').replace('_', ' ') for v in prob.variables() if v.varValue==1])]\n",
    "\n",
    "final.sort_values(['pos', 'salary'], ascending=False)"
   ]
  },
  {
   "cell_type": "code",
   "execution_count": 4,
   "metadata": {
    "collapsed": false
   },
   "outputs": [
    {
     "data": {
      "text/plain": [
       "(145.06999999999999, 60000)"
      ]
     },
     "execution_count": 4,
     "metadata": {},
     "output_type": "execute_result"
    }
   ],
   "source": [
    "sum(final.ptsgame), sum(final.salary)"
   ]
  }
 ],
 "metadata": {
  "kernelspec": {
   "display_name": "Python 3",
   "language": "python",
   "name": "python3"
  },
  "language_info": {
   "codemirror_mode": {
    "name": "ipython",
    "version": 3
   },
   "file_extension": ".py",
   "mimetype": "text/x-python",
   "name": "python",
   "nbconvert_exporter": "python",
   "pygments_lexer": "ipython3",
   "version": "3.4.3"
  }
 },
 "nbformat": 4,
 "nbformat_minor": 0
}
