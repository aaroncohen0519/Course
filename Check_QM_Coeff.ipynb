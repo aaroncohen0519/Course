{
 "cells": [
  {
   "cell_type": "code",
   "execution_count": 4,
   "metadata": {
    "collapsed": false
   },
   "outputs": [
    {
     "name": "stdout",
     "output_type": "stream",
     "text": [
      "what is the listing_id?:\t1368496515\n"
     ]
    },
    {
     "data": {
      "text/plain": [
       "0.61249356947772726"
      ]
     },
     "execution_count": 4,
     "metadata": {},
     "output_type": "execute_result"
    }
   ],
   "source": [
    "import itertools\n",
    "\n",
    "listing_id = input('what is the listing_id?:\\t')\n",
    "\n",
    "kp_mt = core_query('''\n",
    "                    SELECT\n",
    "                      phrase,\n",
    "                      (CASE WHEN matchtype = 6\n",
    "                        THEN 1\n",
    "                       ELSE matchtype END) AS mt\n",
    "                    FROM control.listing l\n",
    "                      JOIN control.keyphrase k\n",
    "                        ON l.keyphraseid = k.id\n",
    "                    WHERE l.id = {pLISTINGID}\n",
    "                '''.format(pLISTINGID = listing_id))\n",
    "\n",
    "phrase, mt = kp_mt.loc[0, 'phrase'].split(), kp_mt.loc[0, 'mt']\n",
    "\n",
    "tokens = algo_query('''\n",
    "                    SELECT skt.id AS skt_id\n",
    "                    FROM control.keyphrase_token kt\n",
    "                      JOIN control.stemmed_keyphrase_token skt\n",
    "                        ON kt.stemmed_keyphrase_token = skt.stemmed_keyphrase_token\n",
    "                           AND kt.keyphrase_token IN {pKP}\n",
    "                    '''.format(pKP = tuple(phrase))).skt_id.tolist()\n",
    "\n",
    "features = tuple(itertools.product(tokens, [mt]))\n",
    "\n",
    "coeffs = algo_query('''\n",
    "                    SELECT sum(coefficient)\n",
    "                    FROM control.quality_model_parameter\n",
    "                    WHERE (component_0, component_1) IN {pFEATURES}\n",
    "                     OR feature_id = 0\n",
    "                    '''.format(pFEATURES = features))\n",
    "\n",
    "(np.exp(coeffs) / (1 + np.exp(coeffs))).values[0][0]"
   ]
  },
  {
   "cell_type": "code",
   "execution_count": null,
   "metadata": {
    "collapsed": true
   },
   "outputs": [],
   "source": []
  }
 ],
 "metadata": {
  "kernelspec": {
   "display_name": "Python 3",
   "language": "python",
   "name": "python3"
  },
  "language_info": {
   "codemirror_mode": {
    "name": "ipython",
    "version": 3
   },
   "file_extension": ".py",
   "mimetype": "text/x-python",
   "name": "python",
   "nbconvert_exporter": "python",
   "pygments_lexer": "ipython3",
   "version": "3.4.3"
  }
 },
 "nbformat": 4,
 "nbformat_minor": 0
}
