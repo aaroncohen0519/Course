{
 "cells": [
  {
   "cell_type": "code",
   "execution_count": 1,
   "metadata": {
    "collapsed": true
   },
   "outputs": [],
   "source": [
    "from algo.utils.db import core_query\n",
    "import warnings\n",
    "warnings.filterwarnings('ignore')\n",
    "\n",
    "def show(df, cols_to_blank):\n",
    "    s = df.head(3)\n",
    "    for c in cols_to_blank:\n",
    "        s[c] = ''\n",
    "    return s"
   ]
  },
  {
   "cell_type": "markdown",
   "metadata": {},
   "source": [
    "### Get Click and Imp data for Ad Copies in Campaigns that have both DKI and Non DKI Ads competing"
   ]
  },
  {
   "cell_type": "code",
   "execution_count": 2,
   "metadata": {
    "collapsed": false
   },
   "outputs": [],
   "source": [
    "# All basecampaigns created in the past 180 days\n",
    "tax = core_query('''\n",
    "                SELECT DISTINCT\n",
    "                    csc.name     AS sc_name,\n",
    "                    csc.id       AS sc_id,\n",
    "                    cbc.id       AS bc_id,\n",
    "                    bac.id       AS ac_id,\n",
    "                    bac.headline AS headline,\n",
    "                    cbc.campaigntype,\n",
    "                    cbc.target\n",
    "                FROM analytics.client_static_basic a\n",
    "                    JOIN control.campaignconfiguration ccc\n",
    "                        ON a.adconfiguration_id = ccc.adconfiguration_id\n",
    "                             AND a.client_type = 'Local'\n",
    "                    JOIN control.servicecategory csc\n",
    "                        ON ccc.servicecategory_id = csc.id\n",
    "                    JOIN control.basecampaign cbc\n",
    "                        ON ccc.id = cbc.campaignconfiguration_id\n",
    "                    JOIN control.baseadcopy bac\n",
    "                        ON cbc.id = bac.campaign_id\n",
    "                             AND headline IS NOT NULL\n",
    "                    WHERE cbc.createddate >= current_date - 10\n",
    "                ORDER BY cbc.id\n",
    "                '''\n",
    "                )"
   ]
  },
  {
   "cell_type": "code",
   "execution_count": 3,
   "metadata": {
    "collapsed": false
   },
   "outputs": [
    {
     "data": {
      "text/html": [
       "<div>\n",
       "<table border=\"1\" class=\"dataframe\">\n",
       "  <thead>\n",
       "    <tr style=\"text-align: right;\">\n",
       "      <th></th>\n",
       "      <th>sc_name</th>\n",
       "      <th>sc_id</th>\n",
       "      <th>bc_id</th>\n",
       "      <th>ac_id</th>\n",
       "      <th>headline</th>\n",
       "      <th>campaigntype</th>\n",
       "      <th>target</th>\n",
       "    </tr>\n",
       "  </thead>\n",
       "  <tbody>\n",
       "    <tr>\n",
       "      <th>0</th>\n",
       "      <td></td>\n",
       "      <td>5666765240</td>\n",
       "      <td>6835018132</td>\n",
       "      <td>6835018443</td>\n",
       "      <td></td>\n",
       "      <td>0</td>\n",
       "      <td>4</td>\n",
       "    </tr>\n",
       "    <tr>\n",
       "      <th>1</th>\n",
       "      <td></td>\n",
       "      <td>5666765240</td>\n",
       "      <td>6835018132</td>\n",
       "      <td>6835018444</td>\n",
       "      <td></td>\n",
       "      <td>0</td>\n",
       "      <td>4</td>\n",
       "    </tr>\n",
       "    <tr>\n",
       "      <th>2</th>\n",
       "      <td></td>\n",
       "      <td>5666765240</td>\n",
       "      <td>6835018132</td>\n",
       "      <td>6835018445</td>\n",
       "      <td></td>\n",
       "      <td>0</td>\n",
       "      <td>4</td>\n",
       "    </tr>\n",
       "  </tbody>\n",
       "</table>\n",
       "</div>"
      ],
      "text/plain": [
       "  sc_name       sc_id       bc_id       ac_id headline  campaigntype  target\n",
       "0          5666765240  6835018132  6835018443                      0       4\n",
       "1          5666765240  6835018132  6835018444                      0       4\n",
       "2          5666765240  6835018132  6835018445                      0       4"
      ]
     },
     "execution_count": 3,
     "metadata": {},
     "output_type": "execute_result"
    }
   ],
   "source": [
    "show(tax, ['headline', 'sc_name'])"
   ]
  },
  {
   "cell_type": "code",
   "execution_count": 4,
   "metadata": {
    "collapsed": false
   },
   "outputs": [],
   "source": [
    "# Keep only Basecampaigns that have had both DKI and Non DKI Ad's created\n",
    "tax['dki'] = [1 if '{' in x else 0 for x in tax.headline]\n",
    "tax['nodki'] = 1 - tax.dki\n",
    "tax = tax.groupby('bc_id').filter(lambda x: sum(x.dki) > 0 and sum(x.nodki) > 0)\n",
    "tax['dki'] = ['YES' if x==1 else 'NO' for x in tax.dki]\n",
    "tax.drop('nodki', axis=1, inplace=True)"
   ]
  },
  {
   "cell_type": "code",
   "execution_count": 5,
   "metadata": {
    "collapsed": false
   },
   "outputs": [
    {
     "data": {
      "text/html": [
       "<div>\n",
       "<table border=\"1\" class=\"dataframe\">\n",
       "  <thead>\n",
       "    <tr style=\"text-align: right;\">\n",
       "      <th></th>\n",
       "      <th>sc_name</th>\n",
       "      <th>sc_id</th>\n",
       "      <th>bc_id</th>\n",
       "      <th>ac_id</th>\n",
       "      <th>headline</th>\n",
       "      <th>campaigntype</th>\n",
       "      <th>target</th>\n",
       "      <th>dki</th>\n",
       "    </tr>\n",
       "  </thead>\n",
       "  <tbody>\n",
       "    <tr>\n",
       "      <th>3648</th>\n",
       "      <td></td>\n",
       "      <td>230907388</td>\n",
       "      <td>6835094160</td>\n",
       "      <td>6835094342</td>\n",
       "      <td></td>\n",
       "      <td>3</td>\n",
       "      <td>0</td>\n",
       "      <td>YES</td>\n",
       "    </tr>\n",
       "    <tr>\n",
       "      <th>3649</th>\n",
       "      <td></td>\n",
       "      <td>230907388</td>\n",
       "      <td>6835094160</td>\n",
       "      <td>6835094343</td>\n",
       "      <td></td>\n",
       "      <td>3</td>\n",
       "      <td>0</td>\n",
       "      <td>NO</td>\n",
       "    </tr>\n",
       "    <tr>\n",
       "      <th>3650</th>\n",
       "      <td></td>\n",
       "      <td>230907388</td>\n",
       "      <td>6835094160</td>\n",
       "      <td>6835094344</td>\n",
       "      <td></td>\n",
       "      <td>3</td>\n",
       "      <td>0</td>\n",
       "      <td>NO</td>\n",
       "    </tr>\n",
       "  </tbody>\n",
       "</table>\n",
       "</div>"
      ],
      "text/plain": [
       "     sc_name      sc_id       bc_id       ac_id headline  campaigntype  \\\n",
       "3648          230907388  6835094160  6835094342                      3   \n",
       "3649          230907388  6835094160  6835094343                      3   \n",
       "3650          230907388  6835094160  6835094344                      3   \n",
       "\n",
       "      target  dki  \n",
       "3648       0  YES  \n",
       "3649       0   NO  \n",
       "3650       0   NO  "
      ]
     },
     "execution_count": 5,
     "metadata": {},
     "output_type": "execute_result"
    }
   ],
   "source": [
    "show(tax, ['headline', 'sc_name'])"
   ]
  },
  {
   "cell_type": "code",
   "execution_count": 6,
   "metadata": {
    "collapsed": false
   },
   "outputs": [],
   "source": [
    "# All ad copy data in the past 10 days for these campaigns\n",
    "data = core_query('''\n",
    "                SELECT\n",
    "                    baseadcopy_id        AS ac_id,\n",
    "                    sum(agg.impressions) AS imps,\n",
    "                    sum(agg.clicks)      AS clicks\n",
    "                FROM aggregates.provider_reports_baseadcopy_day agg\n",
    "                WHERE day >= current_date - 10\n",
    "                            AND agg.baseadcopy_id IN {parameter}\n",
    "                GROUP BY baseadcopy_id\n",
    "                '''.format(parameter = tuple(set(tax.ac_id)))\n",
    "               )"
   ]
  },
  {
   "cell_type": "code",
   "execution_count": 7,
   "metadata": {
    "collapsed": false
   },
   "outputs": [
    {
     "data": {
      "text/html": [
       "<div>\n",
       "<table border=\"1\" class=\"dataframe\">\n",
       "  <thead>\n",
       "    <tr style=\"text-align: right;\">\n",
       "      <th></th>\n",
       "      <th>sc_name</th>\n",
       "      <th>sc_id</th>\n",
       "      <th>bc_id</th>\n",
       "      <th>ac_id</th>\n",
       "      <th>headline</th>\n",
       "      <th>campaigntype</th>\n",
       "      <th>target</th>\n",
       "      <th>dki</th>\n",
       "      <th>imps</th>\n",
       "      <th>clicks</th>\n",
       "    </tr>\n",
       "  </thead>\n",
       "  <tbody>\n",
       "    <tr>\n",
       "      <th>0</th>\n",
       "      <td></td>\n",
       "      <td>230907388</td>\n",
       "      <td>6835094160</td>\n",
       "      <td>6835094342</td>\n",
       "      <td></td>\n",
       "      <td>3</td>\n",
       "      <td>0</td>\n",
       "      <td>YES</td>\n",
       "      <td></td>\n",
       "      <td></td>\n",
       "    </tr>\n",
       "    <tr>\n",
       "      <th>1</th>\n",
       "      <td></td>\n",
       "      <td>230907388</td>\n",
       "      <td>6835094160</td>\n",
       "      <td>6835094343</td>\n",
       "      <td></td>\n",
       "      <td>3</td>\n",
       "      <td>0</td>\n",
       "      <td>NO</td>\n",
       "      <td></td>\n",
       "      <td></td>\n",
       "    </tr>\n",
       "    <tr>\n",
       "      <th>2</th>\n",
       "      <td></td>\n",
       "      <td>230907388</td>\n",
       "      <td>6835094160</td>\n",
       "      <td>6835094344</td>\n",
       "      <td></td>\n",
       "      <td>3</td>\n",
       "      <td>0</td>\n",
       "      <td>NO</td>\n",
       "      <td></td>\n",
       "      <td></td>\n",
       "    </tr>\n",
       "  </tbody>\n",
       "</table>\n",
       "</div>"
      ],
      "text/plain": [
       "  sc_name      sc_id       bc_id       ac_id headline  campaigntype  target  \\\n",
       "0          230907388  6835094160  6835094342                      3       0   \n",
       "1          230907388  6835094160  6835094343                      3       0   \n",
       "2          230907388  6835094160  6835094344                      3       0   \n",
       "\n",
       "   dki imps clicks  \n",
       "0  YES              \n",
       "1   NO              \n",
       "2   NO              "
      ]
     },
     "execution_count": 7,
     "metadata": {},
     "output_type": "execute_result"
    }
   ],
   "source": [
    "# Initial DF-> merge in clicks and impressions to each ad copy\n",
    "df = pd.merge(tax, data, on='ac_id', how='left').fillna(0)\n",
    "show(df, ['sc_name', 'headline', 'imps', 'clicks'])"
   ]
  },
  {
   "cell_type": "markdown",
   "metadata": {},
   "source": [
    "### Only keep Service Categories meeting a minimum threshold for total DKI and Non DKI impressions"
   ]
  },
  {
   "cell_type": "code",
   "execution_count": 8,
   "metadata": {
    "collapsed": false
   },
   "outputs": [],
   "source": [
    "# Dictionary of SC_ID to SC_Name\n",
    "dSC = {k: v for k, v in zip(df.sc_id, df.sc_name)}\n",
    "\n",
    "# Group data by Service Category, Keep only Service Categories with >=1000 DKI and >=1000 NonDKI Impressions\n",
    "df = df.groupby(['sc_id', 'dki'], as_index=False)['imps', 'clicks'].sum()\n",
    "scs_keep = df[df.imps>1000].groupby('sc_id').filter(lambda x: len(x.imps)==2).sc_id.drop_duplicates().tolist()\n",
    "df = df[df.sc_id.isin(scs_keep)]"
   ]
  },
  {
   "cell_type": "markdown",
   "metadata": {},
   "source": [
    "### For each Service Category, how does the CTR for DKI vs. Non DKI Ads compare?"
   ]
  },
  {
   "cell_type": "code",
   "execution_count": 29,
   "metadata": {
    "collapsed": false
   },
   "outputs": [
    {
     "data": {
      "text/html": [
       "<div>\n",
       "<table border=\"1\" class=\"dataframe\">\n",
       "  <thead>\n",
       "    <tr style=\"text-align: right;\">\n",
       "      <th></th>\n",
       "      <th>sc_id</th>\n",
       "      <th>NO_ctr</th>\n",
       "      <th>YES_ctr</th>\n",
       "      <th>NO_imps</th>\n",
       "      <th>YES_imps</th>\n",
       "      <th>dki_vs_nodki</th>\n",
       "      <th>sc_name</th>\n",
       "    </tr>\n",
       "  </thead>\n",
       "  <tbody>\n",
       "    <tr>\n",
       "      <th>1</th>\n",
       "      <td>232927053</td>\n",
       "      <td>0.014093</td>\n",
       "      <td>0.022352</td>\n",
       "      <td></td>\n",
       "      <td></td>\n",
       "      <td>0.586006</td>\n",
       "      <td></td>\n",
       "    </tr>\n",
       "    <tr>\n",
       "      <th>0</th>\n",
       "      <td>60330</td>\n",
       "      <td>0.012087</td>\n",
       "      <td>0.026589</td>\n",
       "      <td></td>\n",
       "      <td></td>\n",
       "      <td>1.199784</td>\n",
       "      <td></td>\n",
       "    </tr>\n",
       "    <tr>\n",
       "      <th>2</th>\n",
       "      <td>1964749030</td>\n",
       "      <td>0.000476</td>\n",
       "      <td>0.001159</td>\n",
       "      <td></td>\n",
       "      <td></td>\n",
       "      <td>1.436848</td>\n",
       "      <td></td>\n",
       "    </tr>\n",
       "  </tbody>\n",
       "</table>\n",
       "</div>"
      ],
      "text/plain": [
       "        sc_id    NO_ctr   YES_ctr NO_imps YES_imps  dki_vs_nodki sc_name\n",
       "1   232927053  0.014093  0.022352                       0.586006        \n",
       "0       60330  0.012087  0.026589                       1.199784        \n",
       "2  1964749030  0.000476  0.001159                       1.436848        "
      ]
     },
     "execution_count": 29,
     "metadata": {},
     "output_type": "execute_result"
    }
   ],
   "source": [
    "# Calculate CTR, Pivot Table for DKI and NonDKI Imps and CTR\n",
    "df['ctr'] = df.clicks / df.imps\n",
    "df = pd.pivot_table(df, index='sc_id', columns='dki', values=['ctr', 'imps'], aggfunc=np.sum)\n",
    "cols = list(zip(df.columns.get_level_values(1).tolist(), df.columns.get_level_values(0).tolist()))\n",
    "df.columns = [x[0]+'_'+x[1] for x in cols]\n",
    "df.reset_index(inplace=True)\n",
    "\n",
    "# Calculate % difference DKI to NonDKI\n",
    "df['dki_vs_nodki'] = (df.YES_ctr - df.NO_ctr) / df.NO_ctr\n",
    "df.sort_values('dki_vs_nodki', inplace=True)\n",
    "\n",
    "# Final Dataframe for SC level DKI Analysis\n",
    "df['sc_name'] = df.sc_id.map(dSC)\n",
    "dki_data = df.copy()\n",
    "\n",
    "show(dki_data, ['NO_imps', 'YES_imps', 'sc_name'])"
   ]
  },
  {
   "cell_type": "markdown",
   "metadata": {},
   "source": [
    "### For each Service Category, what does the keyphrase taxonomy look like? Can we gain any insight by understanding the types of keywords that high DKI CTR campaigns have vs the types of keywords that low DKI CTR campaigns have?"
   ]
  },
  {
   "cell_type": "code",
   "execution_count": 23,
   "metadata": {
    "collapsed": true
   },
   "outputs": [],
   "source": [
    "# Grab keyphrases and impressions/clicks for SC's of interest\n",
    "tax_kp = core_query('''\n",
    "                SELECT\n",
    "                    ccc.servicecategory_id AS sc_id,\n",
    "                    k.phrase               AS keyphrase,\n",
    "                    sum(agg.impressions)   AS imps,\n",
    "                    sum(agg.clicks)        AS clicks\n",
    "                FROM control.campaignconfiguration ccc\n",
    "                    JOIN control.basecampaign cbc\n",
    "                        ON ccc.id = cbc.campaignconfiguration_id\n",
    "                             AND ccc.servicecategory_id IN {parameter}\n",
    "                JOIN control.listing l ON cbc.id = l.campaign_id\n",
    "                JOIN control.keyphrase k ON l.keyphraseid = k.id\n",
    "                JOIN aggregates.provider_reports_listing_day agg ON l.id = agg.listing_id\n",
    "                    AND agg.day>= CURRENT_DATE - 3\n",
    "                GROUP BY ccc.servicecategory_id, k.phrase\n",
    "                '''.format(parameter = tuple(set(dki_data.sc_id)))\n",
    "              )\n",
    "\n",
    "tax_kp['sc_name'] = tax_kp.sc_id.map(dSC)\n",
    "\n",
    "tax_kp.sort_values(['sc_id', 'imps'], ascending=False, inplace=True)\n",
    "\n",
    "# Final Dataframe for all Keyphrases in SC's in interest, along with their clicks and impressions\n",
    "dki_tax = tax_kp.copy()"
   ]
  },
  {
   "cell_type": "code",
   "execution_count": 24,
   "metadata": {
    "collapsed": false
   },
   "outputs": [
    {
     "data": {
      "text/html": [
       "<div>\n",
       "<table border=\"1\" class=\"dataframe\">\n",
       "  <thead>\n",
       "    <tr style=\"text-align: right;\">\n",
       "      <th></th>\n",
       "      <th>sc_id</th>\n",
       "      <th>keyphrase</th>\n",
       "      <th>imps</th>\n",
       "      <th>clicks</th>\n",
       "      <th>sc_name</th>\n",
       "    </tr>\n",
       "  </thead>\n",
       "  <tbody>\n",
       "    <tr>\n",
       "      <th>0</th>\n",
       "      <td>60330</td>\n",
       "      <td></td>\n",
       "      <td></td>\n",
       "      <td></td>\n",
       "      <td></td>\n",
       "    </tr>\n",
       "    <tr>\n",
       "      <th>1</th>\n",
       "      <td>60330</td>\n",
       "      <td></td>\n",
       "      <td></td>\n",
       "      <td></td>\n",
       "      <td></td>\n",
       "    </tr>\n",
       "    <tr>\n",
       "      <th>2</th>\n",
       "      <td>60330</td>\n",
       "      <td></td>\n",
       "      <td></td>\n",
       "      <td></td>\n",
       "      <td></td>\n",
       "    </tr>\n",
       "  </tbody>\n",
       "</table>\n",
       "</div>"
      ],
      "text/plain": [
       "   sc_id keyphrase imps clicks sc_name\n",
       "0  60330                              \n",
       "1  60330                              \n",
       "2  60330                              "
      ]
     },
     "execution_count": 24,
     "metadata": {},
     "output_type": "execute_result"
    }
   ],
   "source": [
    "show(dki_tax, ['NO_imps', 'YES_imps', 'sc_name'])"
   ]
  },
  {
   "cell_type": "code",
   "execution_count": 27,
   "metadata": {
    "collapsed": false
   },
   "outputs": [],
   "source": [
    "path = ''\n",
    "filename = ''\n",
    "\n",
    "f = path + filename + '.xls'\n",
    "writer = pd.ExcelWriter(f)\n",
    "\n",
    "dki_data.to_excel(writer, 'SC_Data')\n",
    "dki_tax.to_excel(writer, 'SC_Taxonomy')\n",
    "\n",
    "writer.save()"
   ]
  }
 ],
 "metadata": {
  "kernelspec": {
   "display_name": "Python 3",
   "language": "python",
   "name": "python3"
  },
  "language_info": {
   "codemirror_mode": {
    "name": "ipython",
    "version": 3
   },
   "file_extension": ".py",
   "mimetype": "text/x-python",
   "name": "python",
   "nbconvert_exporter": "python",
   "pygments_lexer": "ipython3",
   "version": "3.4.3"
  }
 },
 "nbformat": 4,
 "nbformat_minor": 0
}
